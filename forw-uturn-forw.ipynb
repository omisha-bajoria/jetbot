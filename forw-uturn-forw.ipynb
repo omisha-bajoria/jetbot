{
 "cells": [
  {
   "cell_type": "code",
   "execution_count": 1,
   "id": "another-process",
   "metadata": {},
   "outputs": [],
   "source": [
    "from jetbot import Robot\n",
    "robot=Robot()\n",
    "import time"
   ]
  },
  {
   "cell_type": "code",
   "execution_count": 10,
   "id": "usual-yacht",
   "metadata": {},
   "outputs": [],
   "source": [
    "def forw(robot, speed):\n",
    "    if not 0.0<=speed<=1.0:\n",
    "        raise ValueError(\"Speeed must be between 0.0 and 1.0\")\n",
    "    robot.forward(speed)\n",
    "#     robot.set_motors(0.096,0.1)\n",
    "    time.sleep(4.0)\n",
    "    robot.stop()\n",
    "def turn(robot):\n",
    "    robot.left(0.1)\n",
    "#     robot.right_motor.value=0.25\n",
    "#     time.sleep(2.55)\n",
    "    time.sleep(2.25)\n",
    "    robot.stop()\n"
   ]
  },
  {
   "cell_type": "code",
   "execution_count": 11,
   "id": "double-toolbox",
   "metadata": {},
   "outputs": [],
   "source": [
    "forw(robot, 0.1)\n",
    "turn(robot)\n",
    "forw(robot, 0.1)\n",
    "turn(robot)"
   ]
  },
  {
   "cell_type": "raw",
   "id": "blank-protocol",
   "metadata": {},
   "source": [
    "robot.stop()"
   ]
  },
  {
   "cell_type": "markdown",
   "id": "senior-plaza",
   "metadata": {},
   "source": [
    "### Determining the speed of jetbot"
   ]
  },
  {
   "cell_type": "code",
   "execution_count": 2,
   "id": "critical-plain",
   "metadata": {},
   "outputs": [],
   "source": [
    "robot.forward(0.1)\n",
    "time.sleep(1.0)\n",
    "robot.stop()"
   ]
  },
  {
   "cell_type": "markdown",
   "id": "large-profession",
   "metadata": {},
   "source": [
    "### the max speed of jetbot is 0.90 m/s "
   ]
  },
  {
   "cell_type": "code",
   "execution_count": null,
   "id": "related-lease",
   "metadata": {},
   "outputs": [],
   "source": []
  }
 ],
 "metadata": {
  "kernelspec": {
   "display_name": "Python 3",
   "language": "python",
   "name": "python3"
  },
  "language_info": {
   "codemirror_mode": {
    "name": "ipython",
    "version": 3
   },
   "file_extension": ".py",
   "mimetype": "text/x-python",
   "name": "python",
   "nbconvert_exporter": "python",
   "pygments_lexer": "ipython3",
   "version": "3.6.9"
  }
 },
 "nbformat": 4,
 "nbformat_minor": 5
}
