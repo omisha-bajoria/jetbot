{
 "cells": [
  {
   "cell_type": "markdown",
   "id": "hidden-parallel",
   "metadata": {},
   "source": [
    "The jetbot will be goven certain instructions and it will, after moving according to the instructions, r"
   ]
  },
  {
   "cell_type": "code",
   "execution_count": 24,
   "id": "robust-contact",
   "metadata": {},
   "outputs": [],
   "source": [
    "import time\n",
    "from jetbot import Robot\n",
    "robot = Robot()\n"
   ]
  },
  {
   "cell_type": "code",
   "execution_count": 25,
   "id": "alternate-purchase",
   "metadata": {},
   "outputs": [],
   "source": [
    "\n",
    "def getattr(action, delay):\n",
    "    if action==\"f\":\n",
    "        robot.forward(0.1)\n",
    "    elif action==\"b\":\n",
    "        robot.backward(0.1)\n",
    "    elif action==\"l\":\n",
    "        robot.left(0.1)\n",
    "    elif action==\"r\":\n",
    "        robot.right(0.1)\n",
    "    time.sleep(delay)\n",
    "    \n",
    "\n",
    "def execute_movements(robot, instructions):\n",
    "    \n",
    "    movements = []\n",
    "    \n",
    "    for instruction in instructions:\n",
    "        action, delay = instruction\n",
    "        getattr(action, delay)\n",
    "        movements.append((action, delay))  \n",
    "        robot.stop() \n",
    "        \n",
    "    print(\"\\nRetracing path...\")\n",
    "    for move, delay in reversed(movements):\n",
    "        if move == \"f\":\n",
    "            robot.backward(0.1)\n",
    "        elif move == \"b\":\n",
    "            robot.forward(0.1)\n",
    "        elif move == \"r\":\n",
    "            robot.left(0.1)\n",
    "        elif move == \"l\":\n",
    "            robot.right(0.1)\n",
    "        \n",
    "        time.sleep(delay)  \n",
    "        robot.stop()\n",
    "\n"
   ]
  },
  {
   "cell_type": "code",
   "execution_count": 28,
   "id": "sapphire-knife",
   "metadata": {},
   "outputs": [
    {
     "name": "stdin",
     "output_type": "stream",
     "text": [
      " f,1.5\n",
      " r,1\n",
      " f,1.5\n",
      " l,1\n",
      " b,1.5\n",
      " \n"
     ]
    },
    {
     "name": "stdout",
     "output_type": "stream",
     "text": [
      "\n",
      "Retracing path...\n"
     ]
    }
   ],
   "source": [
    "\n",
    "#accept input\n",
    "instructions = []\n",
    "# instructions=list(tuple(int(input().split(',')))\n",
    "i=0\n",
    "while i==0:\n",
    "    s=input()\n",
    "    if s==\"\":\n",
    "        i=-1\n",
    "        break\n",
    "    d,t=s.split(',')\n",
    "\n",
    "    instructions.append((d,float(t)))\n",
    "# print(intstructions)\n",
    "#execute the movements and then the robot will retrace its path\n",
    "execute_movements( robot, instructions)\n"
   ]
  },
  {
   "cell_type": "code",
   "execution_count": null,
   "id": "laughing-element",
   "metadata": {},
   "outputs": [],
   "source": []
  },
  {
   "cell_type": "code",
   "execution_count": null,
   "id": "dental-linux",
   "metadata": {},
   "outputs": [],
   "source": []
  }
 ],
 "metadata": {
  "kernelspec": {
   "display_name": "Python 3",
   "language": "python",
   "name": "python3"
  },
  "language_info": {
   "codemirror_mode": {
    "name": "ipython",
    "version": 3
   },
   "file_extension": ".py",
   "mimetype": "text/x-python",
   "name": "python",
   "nbconvert_exporter": "python",
   "pygments_lexer": "ipython3",
   "version": "3.6.9"
  }
 },
 "nbformat": 4,
 "nbformat_minor": 5
}
