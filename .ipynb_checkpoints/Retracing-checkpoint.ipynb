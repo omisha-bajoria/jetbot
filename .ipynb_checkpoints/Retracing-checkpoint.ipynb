{
 "cells": [
  {
   "cell_type": "markdown",
   "id": "44bac253-ac9a-4e46-a205-835db21d7965",
   "metadata": {},
   "source": [
    "The jetbot will be goven certain instructions and it will, after moving according to the instructions, r"
   ]
  },
  {
   "cell_type": "code",
   "execution_count": null,
   "id": "18b1ddfe-ec60-4866-a09c-0fb86619e206",
   "metadata": {},
   "outputs": [],
   "source": [
    "form jetbot import time\n",
    "from jetbot import Robot\n",
    "robot = Robot()\n",
    "\n",
    "def getattr(action, delay):\n",
    "    if action==\"forward\":\n",
    "        robot.forward(0.1)\n",
    "    elif action==\"backward\":\n",
    "        robot.backward(0.1)\n",
    "    elif action==\"left\":\n",
    "        robot.left(0.1)\n",
    "    elif action==\"right\":\n",
    "        robot.right(0.1)\n",
    "    time.sleep(delay)\n",
    "    \n",
    "\n",
    "def execute_movements(robot, instructions):\n",
    "    movements = []\n",
    "    \n",
    "    for instruction in instructions:\n",
    "        action, delay = instruction\n",
    "        getattr(action, delay)\n",
    "        movements.append((action, delay))  \n",
    "        robot.stop() \n",
    "        \n",
    "    print(\"\\nRetracing path...\")\n",
    "    for move, delay in reversed(movements):\n",
    "        if move == \"forward\":\n",
    "            robot.backward()\n",
    "        elif move == \"backward\":\n",
    "            robot.forward()\n",
    "        elif move == \"right\":\n",
    "            robot.left()\n",
    "        elif move == \"left\":\n",
    "            robot.right()\n",
    "        \n",
    "        time.sleep(delay)  \n",
    "        robot.stop()\n",
    "\n",
    "# give input\n",
    "instructions = [\n",
    "    (\"forward\", 1),\n",
    "    (\"right\", 0.5),\n",
    "    (\"forward\", 1.5),\n",
    "    (\"left\", 1),\n",
    "    (\"backward\", 1)\n",
    "]\n",
    "\n",
    "#execute the movements and then the robot will retrace its path\n",
    "execute_movements(robot, instructions)\n"
   ]
  }
 ],
 "metadata": {
  "kernelspec": {
   "display_name": "Python 3 (ipykernel)",
   "language": "python",
   "name": "python3"
  },
  "language_info": {
   "codemirror_mode": {
    "name": "ipython",
    "version": 3
   },
   "file_extension": ".py",
   "mimetype": "text/x-python",
   "name": "python",
   "nbconvert_exporter": "python",
   "pygments_lexer": "ipython3",
   "version": "3.11.7"
  }
 },
 "nbformat": 4,
 "nbformat_minor": 5
}
