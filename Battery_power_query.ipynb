{
 "cells": [
  {
   "cell_type": "markdown",
   "metadata": {},
   "source": [
    "<center><img src=\"../Picture/logo.png\" alt=\"Header\" style=\"width: 800px;\"/></center>"
   ]
  },
  {
   "cell_type": "markdown",
   "metadata": {},
   "source": [
    "@Copyright (C): 2010-2021, Shenzhen Yahboom Tech  \n",
    "@Author: ZiDan  \n",
    "@Date: 2021-08-26    \n",
    "@LastEditors: ZiDan    \n",
    "@LastEditTime: 2021-08-26 "
   ]
  },
  {
   "cell_type": "markdown",
   "metadata": {},
   "source": [
    "### mport-related driver library"
   ]
  },
  {
   "cell_type": "code",
   "execution_count": 3,
   "metadata": {},
   "outputs": [],
   "source": [
    "import time\n",
    "import Adafruit_SSD1306\n",
    "from PIL import Image\n",
    "from PIL import ImageDraw\n",
    "from PIL import ImageFont\n",
    "from jetbot.utils.utils import get_ip_address\n",
    "import subprocess\n",
    "from Battery_Vol_Lib import BatteryLevel"
   ]
  },
  {
   "cell_type": "markdown",
   "metadata": {},
   "source": [
    "### Initialize SSD1306 "
   ]
  },
  {
   "cell_type": "code",
   "execution_count": 4,
   "metadata": {},
   "outputs": [
    {
     "ename": "OSError",
     "evalue": "[Errno 121] Remote I/O error",
     "output_type": "error",
     "traceback": [
      "\u001b[0;31m\u001b[0m",
      "\u001b[0;31mOSError\u001b[0mTraceback (most recent call last)",
      "\u001b[0;32m<ipython-input-4-1b26d58c5952>\u001b[0m in \u001b[0;36m<module>\u001b[0;34m\u001b[0m\n\u001b[1;32m      2\u001b[0m \u001b[0mdisp\u001b[0m \u001b[0;34m=\u001b[0m \u001b[0mAdafruit_SSD1306\u001b[0m\u001b[0;34m.\u001b[0m\u001b[0mSSD1306_128_32\u001b[0m\u001b[0;34m(\u001b[0m\u001b[0mrst\u001b[0m\u001b[0;34m=\u001b[0m\u001b[0;32mNone\u001b[0m\u001b[0;34m,\u001b[0m \u001b[0mi2c_bus\u001b[0m\u001b[0;34m=\u001b[0m\u001b[0;36m0\u001b[0m\u001b[0;34m,\u001b[0m \u001b[0mgpio\u001b[0m\u001b[0;34m=\u001b[0m\u001b[0;36m1\u001b[0m\u001b[0;34m)\u001b[0m\u001b[0;31m# Set GPIO hack to 1 to avoid platform detection\u001b[0m\u001b[0;34m\u001b[0m\u001b[0;34m\u001b[0m\u001b[0m\n\u001b[1;32m      3\u001b[0m \u001b[0;31m# Initialize the library.\u001b[0m\u001b[0;34m\u001b[0m\u001b[0;34m\u001b[0m\u001b[0;34m\u001b[0m\u001b[0m\n\u001b[0;32m----> 4\u001b[0;31m \u001b[0mdisp\u001b[0m\u001b[0;34m.\u001b[0m\u001b[0mbegin\u001b[0m\u001b[0;34m(\u001b[0m\u001b[0;34m)\u001b[0m\u001b[0;34m\u001b[0m\u001b[0;34m\u001b[0m\u001b[0m\n\u001b[0m\u001b[1;32m      5\u001b[0m \u001b[0;31m# Clear display\u001b[0m\u001b[0;34m\u001b[0m\u001b[0;34m\u001b[0m\u001b[0;34m\u001b[0m\u001b[0m\n\u001b[1;32m      6\u001b[0m \u001b[0mdisp\u001b[0m\u001b[0;34m.\u001b[0m\u001b[0mclear\u001b[0m\u001b[0;34m(\u001b[0m\u001b[0;34m)\u001b[0m\u001b[0;34m\u001b[0m\u001b[0;34m\u001b[0m\u001b[0m\n",
      "\u001b[0;32m/usr/local/lib/python3.6/dist-packages/Adafruit_SSD1306-1.6.2-py3.6.egg/Adafruit_SSD1306/SSD1306.py\u001b[0m in \u001b[0;36mbegin\u001b[0;34m(self, vccstate)\u001b[0m\n\u001b[1;32m    146\u001b[0m         \u001b[0;31m# Reset and initialize display.\u001b[0m\u001b[0;34m\u001b[0m\u001b[0;34m\u001b[0m\u001b[0;34m\u001b[0m\u001b[0m\n\u001b[1;32m    147\u001b[0m         \u001b[0mself\u001b[0m\u001b[0;34m.\u001b[0m\u001b[0mreset\u001b[0m\u001b[0;34m(\u001b[0m\u001b[0;34m)\u001b[0m\u001b[0;34m\u001b[0m\u001b[0;34m\u001b[0m\u001b[0m\n\u001b[0;32m--> 148\u001b[0;31m         \u001b[0mself\u001b[0m\u001b[0;34m.\u001b[0m\u001b[0m_initialize\u001b[0m\u001b[0;34m(\u001b[0m\u001b[0;34m)\u001b[0m\u001b[0;34m\u001b[0m\u001b[0;34m\u001b[0m\u001b[0m\n\u001b[0m\u001b[1;32m    149\u001b[0m         \u001b[0;31m# Turn on the display.\u001b[0m\u001b[0;34m\u001b[0m\u001b[0;34m\u001b[0m\u001b[0;34m\u001b[0m\u001b[0m\n\u001b[1;32m    150\u001b[0m         \u001b[0mself\u001b[0m\u001b[0;34m.\u001b[0m\u001b[0mcommand\u001b[0m\u001b[0;34m(\u001b[0m\u001b[0mSSD1306_DISPLAYON\u001b[0m\u001b[0;34m)\u001b[0m\u001b[0;34m\u001b[0m\u001b[0;34m\u001b[0m\u001b[0m\n",
      "\u001b[0;32m/usr/local/lib/python3.6/dist-packages/Adafruit_SSD1306-1.6.2-py3.6.egg/Adafruit_SSD1306/SSD1306.py\u001b[0m in \u001b[0;36m_initialize\u001b[0;34m(self)\u001b[0m\n\u001b[1;32m    290\u001b[0m     \u001b[0;32mdef\u001b[0m \u001b[0m_initialize\u001b[0m\u001b[0;34m(\u001b[0m\u001b[0mself\u001b[0m\u001b[0;34m)\u001b[0m\u001b[0;34m:\u001b[0m\u001b[0;34m\u001b[0m\u001b[0;34m\u001b[0m\u001b[0m\n\u001b[1;32m    291\u001b[0m         \u001b[0;31m# 128x32 pixel specific initialization.\u001b[0m\u001b[0;34m\u001b[0m\u001b[0;34m\u001b[0m\u001b[0;34m\u001b[0m\u001b[0m\n\u001b[0;32m--> 292\u001b[0;31m         \u001b[0mself\u001b[0m\u001b[0;34m.\u001b[0m\u001b[0mcommand\u001b[0m\u001b[0;34m(\u001b[0m\u001b[0mSSD1306_DISPLAYOFF\u001b[0m\u001b[0;34m)\u001b[0m                    \u001b[0;31m# 0xAE\u001b[0m\u001b[0;34m\u001b[0m\u001b[0;34m\u001b[0m\u001b[0m\n\u001b[0m\u001b[1;32m    293\u001b[0m         \u001b[0mself\u001b[0m\u001b[0;34m.\u001b[0m\u001b[0mcommand\u001b[0m\u001b[0;34m(\u001b[0m\u001b[0mSSD1306_SETDISPLAYCLOCKDIV\u001b[0m\u001b[0;34m)\u001b[0m            \u001b[0;31m# 0xD5\u001b[0m\u001b[0;34m\u001b[0m\u001b[0;34m\u001b[0m\u001b[0m\n\u001b[1;32m    294\u001b[0m         \u001b[0mself\u001b[0m\u001b[0;34m.\u001b[0m\u001b[0mcommand\u001b[0m\u001b[0;34m(\u001b[0m\u001b[0;36m0x80\u001b[0m\u001b[0;34m)\u001b[0m                                  \u001b[0;31m# the suggested ratio 0x80\u001b[0m\u001b[0;34m\u001b[0m\u001b[0;34m\u001b[0m\u001b[0m\n",
      "\u001b[0;32m/usr/local/lib/python3.6/dist-packages/Adafruit_SSD1306-1.6.2-py3.6.egg/Adafruit_SSD1306/SSD1306.py\u001b[0m in \u001b[0;36mcommand\u001b[0;34m(self, c)\u001b[0m\n\u001b[1;32m    127\u001b[0m             \u001b[0;31m# I2C write.\u001b[0m\u001b[0;34m\u001b[0m\u001b[0;34m\u001b[0m\u001b[0;34m\u001b[0m\u001b[0m\n\u001b[1;32m    128\u001b[0m             \u001b[0mcontrol\u001b[0m \u001b[0;34m=\u001b[0m \u001b[0;36m0x00\u001b[0m   \u001b[0;31m# Co = 0, DC = 0\u001b[0m\u001b[0;34m\u001b[0m\u001b[0;34m\u001b[0m\u001b[0m\n\u001b[0;32m--> 129\u001b[0;31m             \u001b[0mself\u001b[0m\u001b[0;34m.\u001b[0m\u001b[0m_i2c\u001b[0m\u001b[0;34m.\u001b[0m\u001b[0mwrite8\u001b[0m\u001b[0;34m(\u001b[0m\u001b[0mcontrol\u001b[0m\u001b[0;34m,\u001b[0m \u001b[0mc\u001b[0m\u001b[0;34m)\u001b[0m\u001b[0;34m\u001b[0m\u001b[0;34m\u001b[0m\u001b[0m\n\u001b[0m\u001b[1;32m    130\u001b[0m \u001b[0;34m\u001b[0m\u001b[0m\n\u001b[1;32m    131\u001b[0m     \u001b[0;32mdef\u001b[0m \u001b[0mdata\u001b[0m\u001b[0;34m(\u001b[0m\u001b[0mself\u001b[0m\u001b[0;34m,\u001b[0m \u001b[0mc\u001b[0m\u001b[0;34m)\u001b[0m\u001b[0;34m:\u001b[0m\u001b[0;34m\u001b[0m\u001b[0;34m\u001b[0m\u001b[0m\n",
      "\u001b[0;32m/usr/local/lib/python3.6/dist-packages/Adafruit_GPIO-1.0.4-py3.6.egg/Adafruit_GPIO/I2C.py\u001b[0m in \u001b[0;36mwrite8\u001b[0;34m(self, register, value)\u001b[0m\n\u001b[1;32m    114\u001b[0m         \u001b[0;34m\"\"\"Write an 8-bit value to the specified register.\"\"\"\u001b[0m\u001b[0;34m\u001b[0m\u001b[0;34m\u001b[0m\u001b[0m\n\u001b[1;32m    115\u001b[0m         \u001b[0mvalue\u001b[0m \u001b[0;34m=\u001b[0m \u001b[0mvalue\u001b[0m \u001b[0;34m&\u001b[0m \u001b[0;36m0xFF\u001b[0m\u001b[0;34m\u001b[0m\u001b[0;34m\u001b[0m\u001b[0m\n\u001b[0;32m--> 116\u001b[0;31m         \u001b[0mself\u001b[0m\u001b[0;34m.\u001b[0m\u001b[0m_bus\u001b[0m\u001b[0;34m.\u001b[0m\u001b[0mwrite_byte_data\u001b[0m\u001b[0;34m(\u001b[0m\u001b[0mself\u001b[0m\u001b[0;34m.\u001b[0m\u001b[0m_address\u001b[0m\u001b[0;34m,\u001b[0m \u001b[0mregister\u001b[0m\u001b[0;34m,\u001b[0m \u001b[0mvalue\u001b[0m\u001b[0;34m)\u001b[0m\u001b[0;34m\u001b[0m\u001b[0;34m\u001b[0m\u001b[0m\n\u001b[0m\u001b[1;32m    117\u001b[0m         self._logger.debug(\"Wrote 0x%02X to register 0x%02X\",\n\u001b[1;32m    118\u001b[0m                      value, register)\n",
      "\u001b[0;32m/usr/local/lib/python3.6/dist-packages/Adafruit_PureIO-1.1.8-py3.6.egg/Adafruit_PureIO/smbus.py\u001b[0m in \u001b[0;36mwrite_byte_data\u001b[0;34m(self, addr, cmd, val)\u001b[0m\n\u001b[1;32m    320\u001b[0m         \u001b[0;31m# Send the data to the device.\u001b[0m\u001b[0;34m\u001b[0m\u001b[0;34m\u001b[0m\u001b[0;34m\u001b[0m\u001b[0m\n\u001b[1;32m    321\u001b[0m         \u001b[0mself\u001b[0m\u001b[0;34m.\u001b[0m\u001b[0m_select_device\u001b[0m\u001b[0;34m(\u001b[0m\u001b[0maddr\u001b[0m\u001b[0;34m)\u001b[0m\u001b[0;34m\u001b[0m\u001b[0;34m\u001b[0m\u001b[0m\n\u001b[0;32m--> 322\u001b[0;31m         \u001b[0mself\u001b[0m\u001b[0;34m.\u001b[0m\u001b[0m_device\u001b[0m\u001b[0;34m.\u001b[0m\u001b[0mwrite\u001b[0m\u001b[0;34m(\u001b[0m\u001b[0mdata\u001b[0m\u001b[0;34m)\u001b[0m\u001b[0;34m\u001b[0m\u001b[0;34m\u001b[0m\u001b[0m\n\u001b[0m\u001b[1;32m    323\u001b[0m \u001b[0;34m\u001b[0m\u001b[0m\n\u001b[1;32m    324\u001b[0m     \u001b[0;32mdef\u001b[0m \u001b[0mwrite_word_data\u001b[0m\u001b[0;34m(\u001b[0m\u001b[0mself\u001b[0m\u001b[0;34m,\u001b[0m \u001b[0maddr\u001b[0m\u001b[0;34m,\u001b[0m \u001b[0mcmd\u001b[0m\u001b[0;34m,\u001b[0m \u001b[0mval\u001b[0m\u001b[0;34m)\u001b[0m\u001b[0;34m:\u001b[0m\u001b[0;34m\u001b[0m\u001b[0;34m\u001b[0m\u001b[0m\n",
      "\u001b[0;31mOSError\u001b[0m: [Errno 121] Remote I/O error"
     ]
    }
   ],
   "source": [
    "# 128x32 display and hardware I2C:\n",
    "disp = Adafruit_SSD1306.SSD1306_128_32(rst=None, i2c_bus=0, gpio=1)# Set GPIO hack to 1 to avoid platform detection\n",
    "# Initialize the library.\n",
    "disp.begin()\n",
    "# Clear display\n",
    "disp.clear()\n",
    "disp.display()\n",
    "# Create a blank image for the drawing\n",
    "# Make sure to create an image with the mode '1', i.e. 1-bit color\n",
    "width = disp.width\n",
    "height = disp.height\n",
    "image = Image.new('1', (width, height))\n",
    "# Gets the drawing object to draw on the image\n",
    "draw = ImageDraw.Draw(image)\n",
    "# Draw a black filled box to clear the image\n",
    "draw.rectangle((0,0,width,height), outline=0, fill=0)\n",
    "# Draw some shapes\n",
    "# First, define some constants to make it easy to resize the shape\n",
    "padding = -2\n",
    "top = padding\n",
    "bottom = height-padding\n",
    "# Move left to right to track the current x position of the drawing.\n",
    "x = 0\n",
    "# Load default font\n",
    "font = ImageFont.load_default()\n",
    "# Create battery level query object\n",
    "BatteryLevel = BatteryLevel()"
   ]
  },
  {
   "cell_type": "markdown",
   "metadata": {},
   "source": [
    "### Every second cycle refresh the information displayed on the OLED screen\n",
    "Here, on the basis of the OLED routine, the captured battery information is displayed on the screen in the lower right corner of the OLED screen. \n",
    "\n",
    "Among them: \n",
    "\n",
    "B: H represents high battery \n",
    "\n",
    "B: M represents medium battery \n",
    "\n",
    "B: L represents low battery \n",
    "\n",
    "B: E represents empty battery"
   ]
  },
  {
   "cell_type": "code",
   "execution_count": null,
   "metadata": {},
   "outputs": [],
   "source": [
    "while True:\n",
    "    # Draw a black filled box to clear the image.\n",
    "    draw.rectangle((0,0,width,height), outline=0, fill=0)\n",
    "\n",
    "    # ou can get the shell script for system monitoring from this link : https://unix.stackexchange.com/questions/119126/command-to-display-memory-usage-disk-usage-and-cpu-load\n",
    "    cmd = \"top -bn1 | grep load | awk '{printf \\\"CPU Load: %.2f\\\", $(NF-2)}'\"\n",
    "    CPU = subprocess.check_output(cmd, shell = True )\n",
    "    cmd = \"free -m | awk 'NR==2{printf \\\"Mem:%s/%sM %.2f%%\\\", $3,$2,$3*100/$2 }'\"\n",
    "    MemUsage = subprocess.check_output(cmd, shell = True )\n",
    "    cmd = \"df -h | awk '$NF==\\\"/\\\"{printf \\\"Disk:%d/%dGB %s\\\", $3,$2,$5}'\"\n",
    "    Disk = subprocess.check_output(cmd, shell = True )\n",
    "\n",
    "    draw.text((x, top),       \"eth0:\" + str(get_ip_address('eth0')),  font=font, fill=255)\n",
    "    draw.text((x, top+8),     \"wlan0:\" + str(get_ip_address('wlan0')), font=font, fill=255)\n",
    "    draw.text((x, top + 16), str(MemUsage.decode('utf-8')), font=font, fill=255)\n",
    "    \n",
    "    #Get the power by calling the battery power driver\n",
    "    temp = BatteryLevel.Update()\n",
    "    if temp == 'Battery_High':\n",
    "        draw.text((x, top+25),    str(Disk.decode('utf-8')) + \"  B:H\",  font=font, fill=255)\n",
    "        print('Battery_High')\n",
    "    elif temp == 'Battery_Medium':\n",
    "        draw.text((x, top+25),    str(Disk.decode('utf-8')) + \"  B:M\",  font=font, fill=255)\n",
    "        print('Battery_Medium')\n",
    "    elif temp =='Battery_Low':\n",
    "        draw.text((x, top+25),    str(Disk.decode('utf-8')) + \"  B:L\",  font=font, fill=255)\n",
    "        print('Battery_Low')\n",
    "    elif temp == 'Battery_Empty':\n",
    "        draw.text((x, top+25),    str(Disk.decode('utf-8')) + \"  B:E\",  font=font, fill=255)\n",
    "        print('Battery_Empty')\n",
    "    # draw.text((x, top+25),    str(Disk.decode('utf-8')),  font=font, fill=255)\n",
    "\n",
    "    # Display image\n",
    "    disp.image(image)\n",
    "    disp.display()\n",
    "    time.sleep(1)"
   ]
  },
  {
   "cell_type": "code",
   "execution_count": null,
   "metadata": {},
   "outputs": [],
   "source": []
  }
 ],
 "metadata": {
  "kernelspec": {
   "display_name": "Python 3",
   "language": "python",
   "name": "python3"
  },
  "language_info": {
   "codemirror_mode": {
    "name": "ipython",
    "version": 3
   },
   "file_extension": ".py",
   "mimetype": "text/x-python",
   "name": "python",
   "nbconvert_exporter": "python",
   "pygments_lexer": "ipython3",
   "version": "3.6.9"
  }
 },
 "nbformat": 4,
 "nbformat_minor": 4
}
